{
 "cells": [
  {
   "cell_type": "markdown",
   "metadata": {},
   "source": [
    "# Insert User data via GraphQL\n",
    "\n",
    "## Goal\n",
    "\n",
    "- Create user objects including 'name' and 'address' fields\n",
    "  - 'name' field: 'user1', 'user2' ...\n",
    "  - 'address' field: import from database 'Cities in Japan'\n",
    "    [generated in another notebook](./scraping%20to%20GraphQL.ipynb)\n",
    "- Generate GraphQL"
   ]
  },
  {
   "cell_type": "code",
   "execution_count": null,
   "metadata": {},
   "outputs": [],
   "source": [
    "import pandas as pd\n",
    "LEN=10000\n",
    "df_user = pd.DataFrame(index=list(range(LEN)))\n",
    "df_user['name'] = df_user.index.astype(str).map(lambda x: 'user'+x)"
   ]
  },
  {
   "cell_type": "code",
   "execution_count": 13,
   "metadata": {},
   "outputs": [
    {
     "data": {
      "text/html": [
       "<div>\n",
       "<style scoped>\n",
       "    .dataframe tbody tr th:only-of-type {\n",
       "        vertical-align: middle;\n",
       "    }\n",
       "\n",
       "    .dataframe tbody tr th {\n",
       "        vertical-align: top;\n",
       "    }\n",
       "\n",
       "    .dataframe thead th {\n",
       "        text-align: right;\n",
       "    }\n",
       "</style>\n",
       "<table border=\"1\" class=\"dataframe\">\n",
       "  <thead>\n",
       "    <tr style=\"text-align: right;\">\n",
       "      <th></th>\n",
       "      <th>name</th>\n",
       "    </tr>\n",
       "  </thead>\n",
       "  <tbody>\n",
       "    <tr>\n",
       "      <th>0</th>\n",
       "      <td>user0</td>\n",
       "    </tr>\n",
       "    <tr>\n",
       "      <th>1</th>\n",
       "      <td>user1</td>\n",
       "    </tr>\n",
       "    <tr>\n",
       "      <th>2</th>\n",
       "      <td>user2</td>\n",
       "    </tr>\n",
       "  </tbody>\n",
       "</table>\n",
       "</div>"
      ],
      "text/plain": [
       "    name\n",
       "0  user0\n",
       "1  user1\n",
       "2  user2"
      ]
     },
     "execution_count": 13,
     "metadata": {},
     "output_type": "execute_result"
    }
   ],
   "source": [
    "df_user[df_user.index < 3]"
   ]
  },
  {
   "cell_type": "code",
   "execution_count": null,
   "metadata": {},
   "outputs": [],
   "source": [
    "from graphqlclient import GraphQLClient\n",
    "import json\n",
    "import random\n",
    "client = GraphQLClient('http://192.168.99.1:4000')\n"
   ]
  },
  {
   "cell_type": "code",
   "execution_count": null,
   "metadata": {},
   "outputs": [],
   "source": [
    "def getAddressList():\n",
    "    result = client.execute('''\n",
    "    {\n",
    "      locations {\n",
    "        address\n",
    "      }\n",
    "    }\n",
    "    ''')\n",
    "    result = json.loads(result)\n",
    "\n",
    "    if not ('data' in result): \n",
    "        return None\n",
    "    result_data = result['data']\n",
    "    if not ('locations' in result_data): \n",
    "        return None\n",
    "    return list(result_data['locations'].map(lambda x: x['address']))\n",
    "list_addresses = getAddressList()\n",
    "df_user['address'] = pd.Series( random.choices(list_addresses, k=len(df)), index=df.index )"
   ]
  },
  {
   "cell_type": "code",
   "execution_count": null,
   "metadata": {},
   "outputs": [],
   "source": [
    "df_user[df_user.index < 3]"
   ]
  },
  {
   "cell_type": "code",
   "execution_count": null,
   "metadata": {},
   "outputs": [],
   "source": [
    "def execMutationCreateUser(name, address):\n",
    "    user = {\n",
    "        'name': name,\n",
    "        'address': address\n",
    "    }\n",
    "    result = client.execute('''\n",
    "    mutation CreateUserMutation($name: String!, $address: String!) {\n",
    "    createLocation(data: {\n",
    "        name: $name\n",
    "        address: $address\n",
    "      }) {\n",
    "        name\n",
    "        address\n",
    "      }\n",
    "    }\n",
    "    ''', variables=json.dumps(user))\n",
    "\n",
    "def iterateExecMutation(df):\n",
    "    for _, row in df.iterrows():\n",
    "        execMutationCreateUser=row['address'], name=row['name'])"
   ]
  }
 ],
 "metadata": {
  "kernelspec": {
   "display_name": "Python 3",
   "language": "python",
   "name": "python3"
  },
  "language_info": {
   "codemirror_mode": {
    "name": "ipython",
    "version": 3
   },
   "file_extension": ".py",
   "mimetype": "text/x-python",
   "name": "python",
   "nbconvert_exporter": "python",
   "pygments_lexer": "ipython3",
   "version": "3.6.5"
  }
 },
 "nbformat": 4,
 "nbformat_minor": 2
}
