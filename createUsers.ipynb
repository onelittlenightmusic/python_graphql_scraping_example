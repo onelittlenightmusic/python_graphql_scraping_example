{
 "cells": [
  {
   "cell_type": "markdown",
   "metadata": {},
   "source": [
    "# Insert User data via GraphQL\n",
    "\n",
    "## Goal\n",
    "\n",
    "- Create user objects including 'name' and 'address' fields\n",
    "  - 'name' field: 'user1', 'user2' ...\n",
    "  - 'address' field: import from database 'Cities in Japan'\n",
    "    [generated in another notebook](./scraping%20to%20GraphQL.ipynb)\n",
    "- Generate GraphQL"
   ]
  },
  {
   "cell_type": "code",
   "execution_count": 1,
   "metadata": {},
   "outputs": [
    {
     "name": "stderr",
     "output_type": "stream",
     "text": [
      "/opt/conda/lib/python3.6/importlib/_bootstrap.py:219: RuntimeWarning: numpy.dtype size changed, may indicate binary incompatibility. Expected 96, got 88\n",
      "  return f(*args, **kwds)\n"
     ]
    }
   ],
   "source": [
    "import pandas as pd\n",
    "LEN=1000\n",
    "df_user = pd.DataFrame(index=list(range(LEN)))\n",
    "df_user['name'] = df_user.index.astype(str).map(lambda x: 'user'+x)"
   ]
  },
  {
   "cell_type": "code",
   "execution_count": 2,
   "metadata": {},
   "outputs": [
    {
     "data": {
      "text/html": [
       "<div>\n",
       "<style scoped>\n",
       "    .dataframe tbody tr th:only-of-type {\n",
       "        vertical-align: middle;\n",
       "    }\n",
       "\n",
       "    .dataframe tbody tr th {\n",
       "        vertical-align: top;\n",
       "    }\n",
       "\n",
       "    .dataframe thead th {\n",
       "        text-align: right;\n",
       "    }\n",
       "</style>\n",
       "<table border=\"1\" class=\"dataframe\">\n",
       "  <thead>\n",
       "    <tr style=\"text-align: right;\">\n",
       "      <th></th>\n",
       "      <th>name</th>\n",
       "    </tr>\n",
       "  </thead>\n",
       "  <tbody>\n",
       "    <tr>\n",
       "      <th>0</th>\n",
       "      <td>user0</td>\n",
       "    </tr>\n",
       "    <tr>\n",
       "      <th>1</th>\n",
       "      <td>user1</td>\n",
       "    </tr>\n",
       "    <tr>\n",
       "      <th>2</th>\n",
       "      <td>user2</td>\n",
       "    </tr>\n",
       "  </tbody>\n",
       "</table>\n",
       "</div>"
      ],
      "text/plain": [
       "    name\n",
       "0  user0\n",
       "1  user1\n",
       "2  user2"
      ]
     },
     "execution_count": 2,
     "metadata": {},
     "output_type": "execute_result"
    }
   ],
   "source": [
    "df_user[df_user.index < 3]"
   ]
  },
  {
   "cell_type": "code",
   "execution_count": 3,
   "metadata": {},
   "outputs": [],
   "source": [
    "from graphqlclient import GraphQLClient\n",
    "import json\n",
    "import random\n",
    "client = GraphQLClient('http://10.0.2.2:4000')\n"
   ]
  },
  {
   "cell_type": "code",
   "execution_count": 7,
   "metadata": {},
   "outputs": [],
   "source": [
    "def getAddressList():\n",
    "    result = client.execute('''\n",
    "    {\n",
    "      locations {\n",
    "        address\n",
    "      }\n",
    "    }\n",
    "    ''')\n",
    "    result = json.loads(result)\n",
    "\n",
    "    if not ('data' in result): \n",
    "        return None\n",
    "    result_data = result['data']\n",
    "    if not ('locations' in result_data): \n",
    "        return None\n",
    "    return list(map(lambda x: x['address'], result_data['locations']))\n",
    "list_addresses = getAddressList()\n",
    "df_user['address'] = pd.Series( random.choices(list_addresses, k=len(df_user)), index=df_user.index )"
   ]
  },
  {
   "cell_type": "code",
   "execution_count": 8,
   "metadata": {},
   "outputs": [
    {
     "data": {
      "text/html": [
       "<div>\n",
       "<style scoped>\n",
       "    .dataframe tbody tr th:only-of-type {\n",
       "        vertical-align: middle;\n",
       "    }\n",
       "\n",
       "    .dataframe tbody tr th {\n",
       "        vertical-align: top;\n",
       "    }\n",
       "\n",
       "    .dataframe thead th {\n",
       "        text-align: right;\n",
       "    }\n",
       "</style>\n",
       "<table border=\"1\" class=\"dataframe\">\n",
       "  <thead>\n",
       "    <tr style=\"text-align: right;\">\n",
       "      <th></th>\n",
       "      <th>name</th>\n",
       "      <th>address</th>\n",
       "    </tr>\n",
       "  </thead>\n",
       "  <tbody>\n",
       "    <tr>\n",
       "      <th>0</th>\n",
       "      <td>user0</td>\n",
       "      <td>Minamata</td>\n",
       "    </tr>\n",
       "    <tr>\n",
       "      <th>1</th>\n",
       "      <td>user1</td>\n",
       "      <td>Miyoshi</td>\n",
       "    </tr>\n",
       "    <tr>\n",
       "      <th>2</th>\n",
       "      <td>user2</td>\n",
       "      <td>Yamagata</td>\n",
       "    </tr>\n",
       "  </tbody>\n",
       "</table>\n",
       "</div>"
      ],
      "text/plain": [
       "    name   address\n",
       "0  user0  Minamata\n",
       "1  user1   Miyoshi\n",
       "2  user2  Yamagata"
      ]
     },
     "execution_count": 8,
     "metadata": {},
     "output_type": "execute_result"
    }
   ],
   "source": [
    "df_user[df_user.index < 3]"
   ]
  },
  {
   "cell_type": "code",
   "execution_count": 13,
   "metadata": {},
   "outputs": [],
   "source": [
    "def execMutationCreateUser(name, address):\n",
    "    user = {\n",
    "        'name': name,\n",
    "        'address': address\n",
    "    }\n",
    "    result = client.execute('''\n",
    "    mutation CreateUserMutation($name: String!, $address: String!) {\n",
    "    createUser(data: {\n",
    "        name: $name\n",
    "        address: $address\n",
    "      }) {\n",
    "        name\n",
    "        address\n",
    "      }\n",
    "    }\n",
    "    ''', variables=json.dumps(user))\n",
    "\n",
    "def iterateExecMutation(df):\n",
    "    for _, row in df.iterrows():\n",
    "        execMutationCreateUser(address=row['address'], name=row['name'])"
   ]
  },
  {
   "cell_type": "code",
   "execution_count": 15,
   "metadata": {},
   "outputs": [],
   "source": [
    "iterateExecMutation(df_user)"
   ]
  },
  {
   "cell_type": "code",
   "execution_count": null,
   "metadata": {},
   "outputs": [],
   "source": []
  }
 ],
 "metadata": {
  "kernelspec": {
   "display_name": "Python 3",
   "language": "python",
   "name": "python3"
  },
  "language_info": {
   "codemirror_mode": {
    "name": "ipython",
    "version": 3
   },
   "file_extension": ".py",
   "mimetype": "text/x-python",
   "name": "python",
   "nbconvert_exporter": "python",
   "pygments_lexer": "ipython3",
   "version": "3.6.5"
  }
 },
 "nbformat": 4,
 "nbformat_minor": 2
}
